{
 "cells": [
  {
   "cell_type": "code",
   "execution_count": null,
   "metadata": {},
   "outputs": [],
   "source": [
    "# ---- Load Images ----\n",
    "imlist = allfiles # allfiles should be a list of the filenames for your photographs\n",
    "im = array(Image.open(imlist[0])) # open one image to get size\n",
    "m, n = im.shape[0:2] # get the size of the images\n",
    "imnbr = list(imlist) # get the number of images\n",
    "# create matrix to store all flattened images\n",
    "immatrix = asarray([array(Image.open(im)).flatten() for im in imlist], 'f')"
   ]
  },
  {
   "cell_type": "code",
   "execution_count": null,
   "metadata": {},
   "outputs": [],
   "source": [
    "# perform PCA alone\n",
    "pca = PCA(n_components = 2)\n",
    "pca_result = pca.fit_transform(immatrix)\n",
    "print_results = pca.explained_variance_ratio_\n",
    "print(REGION)\n",
    "print(print_results)\n",
    "plt.scatter(pca_result[:, 0], pca_result[:,1], s=5)\n",
    "plt.show()\n",
    "pca_output_list = []\n",
    "for i in range(0, len(imlist)):\n",
    "    new_item = {'image': str(imlist[i]), 'x': float(pca_result[i][0]), 'y': float(pca_result[i][1])}\n",
    "    pca_output_list.append(new_item)"
   ]
  },
  {
   "cell_type": "code",
   "execution_count": null,
   "metadata": {},
   "outputs": [],
   "source": [
    "# perform PCA and TSNE\n",
    "get_color_counter = 0\n",
    "pca = PCA(n_components = 25)\n",
    "pca_result = pca.fit_transform(immatrix)\n",
    "print_results = pca.explained_variance_ratio_\n",
    "print(print_results)\n",
    "print(sum(print_results))\n",
    "time_start = time.time()\n",
    "tsne = TSNE(n_components=2, verbose=1, perplexity=270, n_iter=300)\n",
    "tsne_results = tsne.fit_transform(pca_result)\n",
    "print('t-SNE done! Time elapsed: {} seconds'.format(time.time()-time_start))\n",
    "\n",
    "# do the scatterplot\n",
    "plt.scatter(tsne_results[:, 0], tsne_results[:,1], s=10, label=used_uniques)\n",
    "#plt.legend(loc='upper left')\n",
    "plt.show()\n",
    "i = 0\n",
    "tsne_output_list = []\n",
    "# this was code for my use case; I was tracking specific variables about the brooches I was plotting\n",
    "for i in range(0, len(imlist)):\n",
    "    new_item = {'image': str(imlist[i]), 'x': float(tsne_results[i][0]), 'y': float(tsne_results[i][1]), 'c':str(classifications[i]),\n",
    "               'plotdate':str(plotdates[i]), 'rng': str(rngs[i]), 'cgroup': str(class_group[i]), 'IPB':str(iceni_tag[i]),\n",
    "               'lat': str(tsne_lats[i]), 'lon': str(tsne_lons[i]), 'mechanism': str(cd_mechanism[i])}\n",
    "    tsne_output_list.append(new_item)\n",
    "with open('eastern_pca_tsne.json', 'w') as fout:\n",
    "    json.dump(tsne_output_list, fout)"
   ]
  }
 ],
 "metadata": {
  "kernelspec": {
   "display_name": "Python 3",
   "language": "python",
   "name": "python3"
  },
  "language_info": {
   "codemirror_mode": {
    "name": "ipython",
    "version": 3
   },
   "file_extension": ".py",
   "mimetype": "text/x-python",
   "name": "python",
   "nbconvert_exporter": "python",
   "pygments_lexer": "ipython3",
   "version": "3.7.3"
  }
 },
 "nbformat": 4,
 "nbformat_minor": 2
}
